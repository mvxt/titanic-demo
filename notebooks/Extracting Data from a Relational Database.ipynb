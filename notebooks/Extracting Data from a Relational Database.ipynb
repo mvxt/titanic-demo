{
 "cells": [
  {
   "cell_type": "code",
   "execution_count": 1,
   "metadata": {},
   "outputs": [],
   "source": [
    "# import sqlite3 package\n",
    "import sqlite3"
   ]
  },
  {
   "cell_type": "code",
   "execution_count": 2,
   "metadata": {},
   "outputs": [],
   "source": [
    "# Create a database if not exists and connect to it\n",
    "connection = sqlite3.connect(\"classroom.db\")"
   ]
  },
  {
   "cell_type": "markdown",
   "metadata": {},
   "source": [
    "#### Create Table in DB"
   ]
  },
  {
   "cell_type": "code",
   "execution_count": 3,
   "metadata": {},
   "outputs": [],
   "source": [
    "# Open connection\n",
    "conn = sqlite3.connect(\"classroom.db\")\n",
    "# Open cursor\n",
    "cursor = conn.cursor()\n",
    "# Query for creating table\n",
    "create_table_query = \"\"\"\n",
    "CREATE TABLE classroom (\n",
    "    student_id INTEGER PRIMARY KEY,\n",
    "    name VARCHAR(20),\n",
    "    gender CHAR(1),\n",
    "    physics_grade INTEGER,\n",
    "    chemistry_grade INTEGER,\n",
    "    mathematics_grade INTEGER\n",
    ")\n",
    "\"\"\"\n",
    "# Execute query\n",
    "cursor.execute(create_table_query)\n",
    "# Commit changes\n",
    "conn.commit()\n",
    "# Close connection\n",
    "conn.close()"
   ]
  },
  {
   "cell_type": "markdown",
   "metadata": {},
   "source": [
    "#### Insert Sample Data"
   ]
  },
  {
   "cell_type": "code",
   "execution_count": 4,
   "metadata": {},
   "outputs": [],
   "source": [
    "# Sample data\n",
    "class_data = [(1, \"Jake\", \"M\", 70, 84, 92),\n",
    "              (2, \"Viraj\", \"M\", 87, 98, 92),\n",
    "              (3, \"Lucy\", \"F\", 97, 89, 94),\n",
    "              (4, \"Mira\", \"F\", 75, 86, 89)]\n",
    "# Open connection\n",
    "conn = sqlite3.connect(\"classroom.db\")\n",
    "# Open cursor\n",
    "cursor = conn.cursor()\n",
    "# Insert each student record\n",
    "for student in class_data:\n",
    "    # Query\n",
    "    insert_query = \"\"\"\n",
    "        INSERT INTO classroom\n",
    "        (student_id, name, gender, physics_grade, chemistry_grade, mathematics_grade)\n",
    "        VALUES\n",
    "        ({0}, \"{1}\", \"{2}\", {3}, {4}, {5});\n",
    "    \"\"\".format(student[0], student[1], student[2], student[3], student[4], student[5])\n",
    "    # Execute\n",
    "    cursor.execute(insert_query)\n",
    "\n",
    "# Commit changes and close connection\n",
    "conn.commit()\n",
    "conn.close()"
   ]
  },
  {
   "cell_type": "markdown",
   "metadata": {},
   "source": [
    "#### Extract Data"
   ]
  },
  {
   "cell_type": "code",
   "execution_count": 7,
   "metadata": {},
   "outputs": [
    {
     "name": "stdout",
     "output_type": "stream",
     "text": [
      "(1, 'Jake', 'M', 70, 84, 92)\n",
      "(2, 'Viraj', 'M', 87, 98, 92)\n",
      "(3, 'Lucy', 'F', 97, 89, 94)\n",
      "(4, 'Mira', 'F', 75, 86, 89)\n"
     ]
    }
   ],
   "source": [
    "# Open connection, cursor\n",
    "conn = sqlite3.connect(\"classroom.db\")\n",
    "cursor = conn.cursor()\n",
    "\n",
    "# Query and execute\n",
    "get_query = \"SELECT * FROM classroom\"\n",
    "cursor.execute(get_query)\n",
    "\n",
    "# Fetch and print results\n",
    "result = cursor.fetchall()\n",
    "for row in result:\n",
    "    print(row)\n",
    "\n",
    "# Close connection\n",
    "conn.close()"
   ]
  },
  {
   "cell_type": "code",
   "execution_count": null,
   "metadata": {},
   "outputs": [],
   "source": []
  }
 ],
 "metadata": {
  "kernelspec": {
   "display_name": "Python 3",
   "language": "python",
   "name": "python3"
  },
  "language_info": {
   "codemirror_mode": {
    "name": "ipython",
    "version": 3
   },
   "file_extension": ".py",
   "mimetype": "text/x-python",
   "name": "python",
   "nbconvert_exporter": "python",
   "pygments_lexer": "ipython3",
   "version": "3.7.1"
  }
 },
 "nbformat": 4,
 "nbformat_minor": 2
}
