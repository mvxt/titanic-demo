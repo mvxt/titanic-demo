{
 "cells": [
  {
   "cell_type": "code",
   "execution_count": 10,
   "metadata": {},
   "outputs": [
    {
     "name": "stdout",
     "output_type": "stream",
     "text": [
      "Requirement already satisfied: python-dotenv in /Users/mikeyvxt/anaconda3/lib/python3.7/site-packages (0.10.1)\n",
      "Collecting kaggle\n",
      "\u001b[?25l  Downloading https://files.pythonhosted.org/packages/78/3a/64a6447e5faa313b70cb555e21b5a30718c95bcc4902d91784b57fbab737/kaggle-1.5.3.tar.gz (54kB)\n",
      "\u001b[K    100% |████████████████████████████████| 61kB 5.6MB/s ta 0:00:011\n",
      "\u001b[?25hRequirement already satisfied: urllib3<1.25,>=1.21.1 in /Users/mikeyvxt/anaconda3/lib/python3.7/site-packages (from kaggle) (1.24.1)\n",
      "Requirement already satisfied: six>=1.10 in /Users/mikeyvxt/anaconda3/lib/python3.7/site-packages (from kaggle) (1.12.0)\n",
      "Requirement already satisfied: certifi in /Users/mikeyvxt/anaconda3/lib/python3.7/site-packages (from kaggle) (2018.11.29)\n",
      "Requirement already satisfied: python-dateutil in /Users/mikeyvxt/anaconda3/lib/python3.7/site-packages (from kaggle) (2.7.5)\n",
      "Requirement already satisfied: requests in /Users/mikeyvxt/anaconda3/lib/python3.7/site-packages (from kaggle) (2.21.0)\n",
      "Requirement already satisfied: tqdm in /Users/mikeyvxt/anaconda3/lib/python3.7/site-packages (from kaggle) (4.28.1)\n",
      "Collecting python-slugify (from kaggle)\n",
      "  Downloading https://files.pythonhosted.org/packages/c3/67/89987e9f55b84badc33c0034b7554af988f6c5609182477677479e6ec2fd/python-slugify-3.0.0.tar.gz\n",
      "Requirement already satisfied: chardet<3.1.0,>=3.0.2 in /Users/mikeyvxt/anaconda3/lib/python3.7/site-packages (from requests->kaggle) (3.0.4)\n",
      "Requirement already satisfied: idna<2.9,>=2.5 in /Users/mikeyvxt/anaconda3/lib/python3.7/site-packages (from requests->kaggle) (2.8)\n",
      "Collecting text-unidecode==1.2 (from python-slugify->kaggle)\n",
      "\u001b[?25l  Downloading https://files.pythonhosted.org/packages/79/42/d717cc2b4520fb09e45b344b1b0b4e81aa672001dd128c180fabc655c341/text_unidecode-1.2-py2.py3-none-any.whl (77kB)\n",
      "\u001b[K    100% |████████████████████████████████| 81kB 10.9MB/s ta 0:00:01\n",
      "\u001b[?25hBuilding wheels for collected packages: kaggle, python-slugify\n",
      "  Running setup.py bdist_wheel for kaggle ... \u001b[?25ldone\n",
      "\u001b[?25h  Stored in directory: /Users/mikeyvxt/Library/Caches/pip/wheels/ee/97/c5/87dcdc9434fe4e632ed5945e31a03703af229db178ef6a00e8\n",
      "  Running setup.py bdist_wheel for python-slugify ... \u001b[?25ldone\n",
      "\u001b[?25h  Stored in directory: /Users/mikeyvxt/Library/Caches/pip/wheels/a0/0f/79/0bedff8f42e977b2f91bf9e1a25206078642ef57ddcdde4185\n",
      "Successfully built kaggle python-slugify\n",
      "Installing collected packages: text-unidecode, python-slugify, kaggle\n",
      "Successfully installed kaggle-1.5.3 python-slugify-3.0.0 text-unidecode-1.2\n"
     ]
    }
   ],
   "source": [
    "!pip install python-dotenv kaggle"
   ]
  },
  {
   "cell_type": "code",
   "execution_count": 6,
   "metadata": {},
   "outputs": [],
   "source": [
    "from dotenv import load_dotenv, find_dotenv"
   ]
  },
  {
   "cell_type": "code",
   "execution_count": 7,
   "metadata": {},
   "outputs": [
    {
     "data": {
      "text/plain": [
       "True"
      ]
     },
     "execution_count": 7,
     "metadata": {},
     "output_type": "execute_result"
    }
   ],
   "source": [
    "# Find .env automatically by walking up directories until it's found\n",
    "dotenv_path = find_dotenv()\n",
    "# Load entries as ENV vars\n",
    "load_dotenv(dotenv_path)"
   ]
  },
  {
   "cell_type": "code",
   "execution_count": 16,
   "metadata": {},
   "outputs": [],
   "source": [
    "# Imports / ENV vars\n",
    "import os\n",
    "KAGGLE_USERNAME = os.environ.get(\"KAGGLE_USERNAME\")\n",
    "KAGGLE_KEY = os.environ.get(\"KAGGLE_KEY\")"
   ]
  },
  {
   "cell_type": "code",
   "execution_count": 17,
   "metadata": {},
   "outputs": [
    {
     "name": "stdout",
     "output_type": "stream",
     "text": [
      "train.csv: Skipping, found more recently modified local copy (use --force to force download)\n",
      "test.csv: Skipping, found more recently modified local copy (use --force to force download)\n",
      "gender_submission.csv: Skipping, found more recently modified local copy (use --force to force download)\n"
     ]
    }
   ],
   "source": [
    "# Get dataset\n",
    "!kaggle competitions download -c titanic"
   ]
  },
  {
   "cell_type": "code",
   "execution_count": null,
   "metadata": {},
   "outputs": [],
   "source": []
  }
 ],
 "metadata": {
  "kernelspec": {
   "display_name": "Python 3",
   "language": "python",
   "name": "python3"
  },
  "language_info": {
   "codemirror_mode": {
    "name": "ipython",
    "version": 3
   },
   "file_extension": ".py",
   "mimetype": "text/x-python",
   "name": "python",
   "nbconvert_exporter": "python",
   "pygments_lexer": "ipython3",
   "version": "3.7.1"
  }
 },
 "nbformat": 4,
 "nbformat_minor": 2
}
